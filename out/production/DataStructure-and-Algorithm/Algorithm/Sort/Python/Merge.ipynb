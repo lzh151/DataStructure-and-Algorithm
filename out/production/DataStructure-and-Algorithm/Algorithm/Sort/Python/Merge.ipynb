{
 "cells": [
  {
   "cell_type": "code",
   "execution_count": 1,
   "id": "87561761",
   "metadata": {},
   "outputs": [],
   "source": [
    "def merge(array, left, right, end):\n",
    "    divide = right - 1\n",
    "    \n",
    "    i = left\n",
    "    j = right\n",
    "    k = 0\n",
    "    \n",
    "    mergeArray = list()\n",
    "    \n",
    "    while(i <= divide and j <= end):\n",
    "        if(array[i] <= array[j]):\n",
    "            mergeArray.append(array[i])\n",
    "            k = k + 1\n",
    "            i = i + 1\n",
    "        else:\n",
    "            mergeArray.append(array[j])\n",
    "            k = k + 1\n",
    "            j = j + 1\n",
    "    \n",
    "    while(i <= divide):\n",
    "        mergeArray.append(array[i])\n",
    "        k = k + 1\n",
    "        i = i + 1\n",
    "    while(j <= end):\n",
    "        mergeArray.append(array[j])\n",
    "        k = k + 1\n",
    "        j = j + 1\n",
    "    \n",
    "    for i in range(0, len(mergeArray)):\n",
    "        del array[left + i]\n",
    "        array.insert(left + i, mergeArray[i])\n",
    "    \n",
    "    return array"
   ]
  },
  {
   "cell_type": "code",
   "execution_count": 2,
   "id": "6c0285d4",
   "metadata": {},
   "outputs": [],
   "source": [
    "def Sort(array, start, end):\n",
    "    if(start == end): \n",
    "        return array\n",
    "    mid = (start + end) // 2\n",
    "    \n",
    "    array = Sort(array, start, mid)\n",
    "    \n",
    "    array = Sort(array, mid + 1, end)\n",
    "    \n",
    "    array = merge(array, start, mid + 1, end)\n",
    "    \n",
    "    return array"
   ]
  },
  {
   "cell_type": "code",
   "execution_count": 3,
   "id": "2cba7646",
   "metadata": {},
   "outputs": [
    {
     "name": "stdout",
     "output_type": "stream",
     "text": [
      "[1, 4, 7, 3, 6, 9, 0, 10]\n",
      "[0, 1, 3, 4, 6, 7, 9, 10]\n"
     ]
    }
   ],
   "source": [
    "import numpy as np\n",
    "\n",
    "array = list([1, 4, 7, 3, 6, 9, 0, 10])\n",
    "print(array)\n",
    "\n",
    "array = Sort(array, 0, len(array) - 1)\n",
    "\n",
    "print(array)"
   ]
  }
 ],
 "metadata": {
  "kernelspec": {
   "display_name": "Python 3",
   "language": "python",
   "name": "python3"
  },
  "language_info": {
   "codemirror_mode": {
    "name": "ipython",
    "version": 3
   },
   "file_extension": ".py",
   "mimetype": "text/x-python",
   "name": "python",
   "nbconvert_exporter": "python",
   "pygments_lexer": "ipython3",
   "version": "3.8.8"
  }
 },
 "nbformat": 4,
 "nbformat_minor": 5
}
